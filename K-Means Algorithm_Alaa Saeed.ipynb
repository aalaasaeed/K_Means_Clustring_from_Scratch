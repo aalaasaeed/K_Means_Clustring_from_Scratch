{
 "cells": [
  {
   "cell_type": "markdown",
   "id": "b93499de",
   "metadata": {
    "pycharm": {
     "name": "#%% md\n"
    }
   },
   "source": [
    "### Unsupervised Algorthim (K - Means)"
   ]
  },
  {
   "cell_type": "code",
   "execution_count": 30,
   "id": "ee926183",
   "metadata": {
    "pycharm": {
     "name": "#%%\n"
    }
   },
   "outputs": [],
   "source": [
    "import numpy as np\n",
    "import pandas as pd\n",
    "import matplotlib.pyplot as plt\n",
    "import seaborn as sns\n",
    "import warnings\n",
    "warnings.filterwarnings('ignore')\n",
    "\n",
    " \n"
   ]
  },
  {
   "cell_type": "code",
   "execution_count": 31,
   "id": "a322d6af",
   "metadata": {
    "pycharm": {
     "name": "#%%\n"
    }
   },
   "outputs": [],
   "source": [
    "iris_df = pd.read_csv(\"Iris.csv\")"
   ]
  },
  {
   "cell_type": "code",
   "execution_count": 32,
   "id": "4ca0ab87",
   "metadata": {
    "pycharm": {
     "name": "#%%\n"
    }
   },
   "outputs": [
    {
     "data": {
      "text/plain": "   Id  SepalLengthCm  SepalWidthCm  PetalLengthCm  PetalWidthCm      Species\n0   1            5.1           3.5            1.4           0.2  Iris-setosa\n1   2            4.9           3.0            1.4           0.2  Iris-setosa\n2   3            4.7           3.2            1.3           0.2  Iris-setosa\n3   4            4.6           3.1            1.5           0.2  Iris-setosa\n4   5            5.0           3.6            1.4           0.2  Iris-setosa",
      "text/html": "<div>\n<style scoped>\n    .dataframe tbody tr th:only-of-type {\n        vertical-align: middle;\n    }\n\n    .dataframe tbody tr th {\n        vertical-align: top;\n    }\n\n    .dataframe thead th {\n        text-align: right;\n    }\n</style>\n<table border=\"1\" class=\"dataframe\">\n  <thead>\n    <tr style=\"text-align: right;\">\n      <th></th>\n      <th>Id</th>\n      <th>SepalLengthCm</th>\n      <th>SepalWidthCm</th>\n      <th>PetalLengthCm</th>\n      <th>PetalWidthCm</th>\n      <th>Species</th>\n    </tr>\n  </thead>\n  <tbody>\n    <tr>\n      <th>0</th>\n      <td>1</td>\n      <td>5.1</td>\n      <td>3.5</td>\n      <td>1.4</td>\n      <td>0.2</td>\n      <td>Iris-setosa</td>\n    </tr>\n    <tr>\n      <th>1</th>\n      <td>2</td>\n      <td>4.9</td>\n      <td>3.0</td>\n      <td>1.4</td>\n      <td>0.2</td>\n      <td>Iris-setosa</td>\n    </tr>\n    <tr>\n      <th>2</th>\n      <td>3</td>\n      <td>4.7</td>\n      <td>3.2</td>\n      <td>1.3</td>\n      <td>0.2</td>\n      <td>Iris-setosa</td>\n    </tr>\n    <tr>\n      <th>3</th>\n      <td>4</td>\n      <td>4.6</td>\n      <td>3.1</td>\n      <td>1.5</td>\n      <td>0.2</td>\n      <td>Iris-setosa</td>\n    </tr>\n    <tr>\n      <th>4</th>\n      <td>5</td>\n      <td>5.0</td>\n      <td>3.6</td>\n      <td>1.4</td>\n      <td>0.2</td>\n      <td>Iris-setosa</td>\n    </tr>\n  </tbody>\n</table>\n</div>"
     },
     "execution_count": 32,
     "metadata": {},
     "output_type": "execute_result"
    }
   ],
   "source": [
    "iris_df.head()"
   ]
  },
  {
   "cell_type": "code",
   "execution_count": 33,
   "id": "a7fbf09d",
   "metadata": {
    "pycharm": {
     "name": "#%%\n"
    }
   },
   "outputs": [],
   "source": [
    "iris_df = iris_df.loc[:, ['SepalLengthCm', 'PetalLengthCm']]"
   ]
  },
  {
   "cell_type": "code",
   "execution_count": 34,
   "id": "2ee0ec6b",
   "metadata": {
    "pycharm": {
     "name": "#%%\n"
    }
   },
   "outputs": [
    {
     "data": {
      "text/plain": "   SepalLengthCm  PetalLengthCm\n0            5.1            1.4\n1            4.9            1.4\n2            4.7            1.3\n3            4.6            1.5\n4            5.0            1.4",
      "text/html": "<div>\n<style scoped>\n    .dataframe tbody tr th:only-of-type {\n        vertical-align: middle;\n    }\n\n    .dataframe tbody tr th {\n        vertical-align: top;\n    }\n\n    .dataframe thead th {\n        text-align: right;\n    }\n</style>\n<table border=\"1\" class=\"dataframe\">\n  <thead>\n    <tr style=\"text-align: right;\">\n      <th></th>\n      <th>SepalLengthCm</th>\n      <th>PetalLengthCm</th>\n    </tr>\n  </thead>\n  <tbody>\n    <tr>\n      <th>0</th>\n      <td>5.1</td>\n      <td>1.4</td>\n    </tr>\n    <tr>\n      <th>1</th>\n      <td>4.9</td>\n      <td>1.4</td>\n    </tr>\n    <tr>\n      <th>2</th>\n      <td>4.7</td>\n      <td>1.3</td>\n    </tr>\n    <tr>\n      <th>3</th>\n      <td>4.6</td>\n      <td>1.5</td>\n    </tr>\n    <tr>\n      <th>4</th>\n      <td>5.0</td>\n      <td>1.4</td>\n    </tr>\n  </tbody>\n</table>\n</div>"
     },
     "execution_count": 34,
     "metadata": {},
     "output_type": "execute_result"
    }
   ],
   "source": [
    "iris_df.head()"
   ]
  },
  {
   "cell_type": "code",
   "execution_count": 35,
   "id": "f82fe86d",
   "metadata": {
    "pycharm": {
     "name": "#%%\n"
    }
   },
   "outputs": [],
   "source": [
    "iris_arr = iris_df.values"
   ]
  },
  {
   "cell_type": "code",
   "execution_count": 36,
   "id": "020609dd",
   "metadata": {
    "pycharm": {
     "name": "#%%\n"
    }
   },
   "outputs": [
    {
     "data": {
      "text/plain": "array([[5.1, 1.4],\n       [4.9, 1.4],\n       [4.7, 1.3],\n       [4.6, 1.5],\n       [5. , 1.4],\n       [5.4, 1.7],\n       [4.6, 1.4],\n       [5. , 1.5],\n       [4.4, 1.4],\n       [4.9, 1.5],\n       [5.4, 1.5],\n       [4.8, 1.6],\n       [4.8, 1.4],\n       [4.3, 1.1],\n       [5.8, 1.2],\n       [5.7, 1.5],\n       [5.4, 1.3],\n       [5.1, 1.4],\n       [5.7, 1.7],\n       [5.1, 1.5],\n       [5.4, 1.7],\n       [5.1, 1.5],\n       [4.6, 1. ],\n       [5.1, 1.7],\n       [4.8, 1.9],\n       [5. , 1.6],\n       [5. , 1.6],\n       [5.2, 1.5],\n       [5.2, 1.4],\n       [4.7, 1.6],\n       [4.8, 1.6],\n       [5.4, 1.5],\n       [5.2, 1.5],\n       [5.5, 1.4],\n       [4.9, 1.5],\n       [5. , 1.2],\n       [5.5, 1.3],\n       [4.9, 1.5],\n       [4.4, 1.3],\n       [5.1, 1.5],\n       [5. , 1.3],\n       [4.5, 1.3],\n       [4.4, 1.3],\n       [5. , 1.6],\n       [5.1, 1.9],\n       [4.8, 1.4],\n       [5.1, 1.6],\n       [4.6, 1.4],\n       [5.3, 1.5],\n       [5. , 1.4],\n       [7. , 4.7],\n       [6.4, 4.5],\n       [6.9, 4.9],\n       [5.5, 4. ],\n       [6.5, 4.6],\n       [5.7, 4.5],\n       [6.3, 4.7],\n       [4.9, 3.3],\n       [6.6, 4.6],\n       [5.2, 3.9],\n       [5. , 3.5],\n       [5.9, 4.2],\n       [6. , 4. ],\n       [6.1, 4.7],\n       [5.6, 3.6],\n       [6.7, 4.4],\n       [5.6, 4.5],\n       [5.8, 4.1],\n       [6.2, 4.5],\n       [5.6, 3.9],\n       [5.9, 4.8],\n       [6.1, 4. ],\n       [6.3, 4.9],\n       [6.1, 4.7],\n       [6.4, 4.3],\n       [6.6, 4.4],\n       [6.8, 4.8],\n       [6.7, 5. ],\n       [6. , 4.5],\n       [5.7, 3.5],\n       [5.5, 3.8],\n       [5.5, 3.7],\n       [5.8, 3.9],\n       [6. , 5.1],\n       [5.4, 4.5],\n       [6. , 4.5],\n       [6.7, 4.7],\n       [6.3, 4.4],\n       [5.6, 4.1],\n       [5.5, 4. ],\n       [5.5, 4.4],\n       [6.1, 4.6],\n       [5.8, 4. ],\n       [5. , 3.3],\n       [5.6, 4.2],\n       [5.7, 4.2],\n       [5.7, 4.2],\n       [6.2, 4.3],\n       [5.1, 3. ],\n       [5.7, 4.1],\n       [6.3, 6. ],\n       [5.8, 5.1],\n       [7.1, 5.9],\n       [6.3, 5.6],\n       [6.5, 5.8],\n       [7.6, 6.6],\n       [4.9, 4.5],\n       [7.3, 6.3],\n       [6.7, 5.8],\n       [7.2, 6.1],\n       [6.5, 5.1],\n       [6.4, 5.3],\n       [6.8, 5.5],\n       [5.7, 5. ],\n       [5.8, 5.1],\n       [6.4, 5.3],\n       [6.5, 5.5],\n       [7.7, 6.7],\n       [7.7, 6.9],\n       [6. , 5. ],\n       [6.9, 5.7],\n       [5.6, 4.9],\n       [7.7, 6.7],\n       [6.3, 4.9],\n       [6.7, 5.7],\n       [7.2, 6. ],\n       [6.2, 4.8],\n       [6.1, 4.9],\n       [6.4, 5.6],\n       [7.2, 5.8],\n       [7.4, 6.1],\n       [7.9, 6.4],\n       [6.4, 5.6],\n       [6.3, 5.1],\n       [6.1, 5.6],\n       [7.7, 6.1],\n       [6.3, 5.6],\n       [6.4, 5.5],\n       [6. , 4.8],\n       [6.9, 5.4],\n       [6.7, 5.6],\n       [6.9, 5.1],\n       [5.8, 5.1],\n       [6.8, 5.9],\n       [6.7, 5.7],\n       [6.7, 5.2],\n       [6.3, 5. ],\n       [6.5, 5.2],\n       [6.2, 5.4],\n       [5.9, 5.1]])"
     },
     "execution_count": 36,
     "metadata": {},
     "output_type": "execute_result"
    }
   ],
   "source": [
    "iris_arr"
   ]
  },
  {
   "cell_type": "code",
   "execution_count": 37,
   "id": "a3e853fc",
   "metadata": {
    "pycharm": {
     "name": "#%%\n"
    }
   },
   "outputs": [
    {
     "data": {
      "text/plain": "<Figure size 432x288 with 1 Axes>",
      "image/png": "[encoded data removed]"
     },
     "metadata": {},
     "output_type": "display_data"
    }
   ],
   "source": [
    "plt.scatter(iris_arr[:,0],iris_arr[:,1] )\n",
    "plt.show()"
   ]
  },
  {
   "cell_type": "code",
   "execution_count": 38,
   "id": "c6b95f9c",
   "metadata": {
    "pycharm": {
     "name": "#%%\n"
    }
   },
   "outputs": [],
   "source": [
    "def initialize_centroids(k):\n",
    "    centroids = iris_df.sample(n=k).values\n",
    "    return centroids\n",
    "    "
   ]
  },
  {
   "cell_type": "code",
   "execution_count": 39,
   "id": "0b8b0588",
   "metadata": {
    "pycharm": {
     "name": "#%%\n"
    }
   },
   "outputs": [],
   "source": [
    "def calculate_distance(centroid_1,centroid_2 , row_1,row_2):\n",
    "    d = np.sqrt((centroid_1 - row_1)**2 + (centroid_2 - row_2)**2)\n",
    "    return d\n",
    "    "
   ]
  },
  {
   "cell_type": "code",
   "execution_count": 40,
   "id": "5fad41ab",
   "metadata": {
    "pycharm": {
     "name": "#%%\n"
    }
   },
   "outputs": [],
   "source": [
    "def k_means(data_set,k):\n",
    "    \n",
    "    difference = 1\n",
    "    \n",
    "    cluster = np.zeros(data_set.shape[0])\n",
    "    \n",
    "    centroids = initialize_centroids(k)\n",
    "    \n",
    "    while difference:\n",
    "        for i, row in enumerate(data_set):\n",
    "            mini_distance = float('inf')\n",
    "            for idx,centroid in enumerate(centroids):\n",
    "                dist = calculate_distance(centroid[0], centroid[1],row[0],row[1])\n",
    "                if mini_distance > dist:\n",
    "                    mini_distance = dist\n",
    "                    cluster[i] = idx\n",
    "                    \n",
    "        new_centriods = pd.DataFrame(data_set).groupby(by = cluster).mean().values\n",
    "        \n",
    "        if np.count_nonzero(centroids-new_centriods) == 0:\n",
    "            difference = 0\n",
    "        else:\n",
    "            centroids = new_centriods\n",
    "    \n",
    "    return centroids,cluster        \n",
    "    "
   ]
  },
  {
   "cell_type": "code",
   "execution_count": 41,
   "id": "252276fc",
   "metadata": {
    "pycharm": {
     "name": "#%%\n"
    }
   },
   "outputs": [],
   "source": [
    "def calculate_distortion(data, centroids , cluster):\n",
    "    sum = 0\n",
    "    for i , val in enumerate(data):\n",
    "        sum += (centroids[int(cluster[i]), 0]-val[0])**2 +(centroids[int(cluster[i]), 1]-val[1])**2\n",
    "    return sum\n",
    "    "
   ]
  },
  {
   "cell_type": "code",
   "execution_count": 42,
   "id": "a49ef29c",
   "metadata": {
    "pycharm": {
     "name": "#%%\n"
    }
   },
   "outputs": [],
   "source": [
    "cost_list = []\n",
    "for k in range(1, 10):\n",
    "    centroids, cluster = k_means(iris_arr, k)\n",
    "    cost = calculate_distortion(iris_arr ,centroids, cluster)\n",
    "    cost_list.append(cost)"
   ]
  },
  {
   "cell_type": "code",
   "execution_count": 43,
   "id": "eec57f5d",
   "metadata": {
    "pycharm": {
     "name": "#%%\n"
    }
   },
   "outputs": [
    {
     "data": {
      "text/plain": "<Figure size 432x288 with 1 Axes>",
      "image/png": "[encoded data removed]"
     },
     "metadata": {},
     "output_type": "display_data"
    }
   ],
   "source": [
    "sns.lineplot(x=range(1,10), y=cost_list, marker='o')\n",
    "plt.xlabel('k')\n",
    "plt.ylabel('distortion')\n",
    "plt.show()"
   ]
  },
  {
   "cell_type": "code",
   "execution_count": 44,
   "id": "d7129c01",
   "metadata": {
    "pycharm": {
     "name": "#%%\n"
    }
   },
   "outputs": [],
   "source": [
    "k = 4\n",
    "centroids, clusterr = k_means(iris_arr, k)"
   ]
  },
  {
   "cell_type": "code",
   "execution_count": 45,
   "id": "2848b346",
   "metadata": {
    "pycharm": {
     "name": "#%%\n"
    }
   },
   "outputs": [
    {
     "data": {
      "text/plain": "<Figure size 432x288 with 1 Axes>",
      "image/png": "[encoded data removed]"
     },
     "metadata": {},
     "output_type": "display_data"
    }
   ],
   "source": [
    "sns.scatterplot(iris_arr[:,0], iris_arr[:, 1], hue=clusterr)\n",
    "sns.scatterplot(centroids[:,0], centroids[:, 1], s=100, color='y')\n",
    "plt.show()\n"
   ]
  },
  {
   "cell_type": "code",
   "execution_count": null,
   "id": "a76fd8de",
   "metadata": {
    "pycharm": {
     "name": "#%%\n"
    }
   },
   "outputs": [],
   "source": []
  }
 ],
 "metadata": {
  "kernelspec": {
   "display_name": "Python 3 (ipykernel)",
   "language": "python",
   "name": "python3"
  },
  "language_info": {
   "codemirror_mode": {
    "name": "ipython",
    "version": 3
   },
   "file_extension": ".py",
   "mimetype": "text/x-python",
   "name": "python",
   "nbconvert_exporter": "python",
   "pygments_lexer": "ipython3",
   "version": "3.10.4"
  }
 },
 "nbformat": 4,
 "nbformat_minor": 5
}